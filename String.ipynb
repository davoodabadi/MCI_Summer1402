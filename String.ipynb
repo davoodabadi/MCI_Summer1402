{
  "nbformat": 4,
  "nbformat_minor": 0,
  "metadata": {
    "colab": {
      "provenance": [],
      "authorship_tag": "ABX9TyPx5kNV5SSXRn74GYoI2CqB",
      "include_colab_link": true
    },
    "kernelspec": {
      "name": "python3",
      "display_name": "Python 3"
    },
    "language_info": {
      "name": "python"
    }
  },
  "cells": [
    {
      "cell_type": "markdown",
      "metadata": {
        "id": "view-in-github",
        "colab_type": "text"
      },
      "source": [
        "<a href=\"https://colab.research.google.com/github/davoodabadi/MCI_Summer1402/blob/main/String.ipynb\" target=\"_parent\"><img src=\"https://colab.research.google.com/assets/colab-badge.svg\" alt=\"Open In Colab\"/></a>"
      ]
    },
    {
      "cell_type": "code",
      "execution_count": null,
      "metadata": {
        "colab": {
          "base_uri": "https://localhost:8080/"
        },
        "id": "nJ2A5jMN0MAt",
        "outputId": "7731826d-3015-4c59-b490-230eb5cbc3bd"
      },
      "outputs": [
        {
          "output_type": "stream",
          "name": "stdout",
          "text": [
            "\n",
            "Escaping Single Quote: \n",
            "I'm a \"Geek\"\n",
            "\n",
            "Escaping Double Quotes: \n",
            "I'm a \"Geek\"\n"
          ]
        }
      ],
      "source": [
        "# Escaping Single Quote\n",
        "String1 = 'I\\'m a \"Geek\"'\n",
        "print(\"\\nEscaping Single Quote: \")\n",
        "print(String1)\n",
        "\n",
        "# Escaping Double Quotes\n",
        "String1 = \"I'm a \\\"Geek\\\"\"\n",
        "print(\"\\nEscaping Double Quotes: \")\n",
        "print(String1)"
      ]
    },
    {
      "cell_type": "code",
      "source": [
        "String1 = \"C:\\\\Python\\\\Geeks\\\\\"\n",
        "print(r\"\\nEscaping Backslashes: \")\n",
        "print(String1)"
      ],
      "metadata": {
        "colab": {
          "base_uri": "https://localhost:8080/"
        },
        "id": "7OuFKYpr0lti",
        "outputId": "00bf4b65-ac1e-4fa2-81ed-fc370199f378"
      },
      "execution_count": null,
      "outputs": [
        {
          "output_type": "stream",
          "name": "stdout",
          "text": [
            "\\nEscaping Backslashes: \n",
            "C:\\Python\\Geeks\\\n"
          ]
        }
      ]
    },
    {
      "cell_type": "code",
      "source": [
        "# Python Program for\n",
        "# Formatting of Strings\n",
        "\n",
        "# Default order\n",
        "a='Geeks'\n",
        "b='For'\n",
        "c='Life'\n",
        "String1 = f\"{a} {b} {c}\"\n",
        "print(\"Print String in default order: \")\n",
        "print(String1)\n",
        "\n",
        "# Positional Formatting\n",
        "String1 = \"{1} {0} {2}\".format('Geeks', 'For', 'Life')\n",
        "print(\"\\nPrint String in Positional order: \")\n",
        "print(String1)\n",
        "\n",
        "# Keyword Formatting\n",
        "String1 = \"{l} {f} {g}\".format(g='Geeks', f='For', l='Life')\n",
        "print(\"\\nPrint String in order of Keywords: \")\n",
        "print(String1)\n"
      ],
      "metadata": {
        "colab": {
          "base_uri": "https://localhost:8080/"
        },
        "id": "PrHu7IXt28bQ",
        "outputId": "a373d842-432c-4272-9033-5f408005ef5d"
      },
      "execution_count": null,
      "outputs": [
        {
          "output_type": "stream",
          "name": "stdout",
          "text": [
            "Print String in default order: \n",
            "Geeks For Life\n",
            "\n",
            "Print String in Positional order: \n",
            "For Geeks Life\n",
            "\n",
            "Print String in order of Keywords: \n",
            "Life For Geeks\n"
          ]
        }
      ]
    },
    {
      "cell_type": "code",
      "source": [
        "# Formatting of Integers\n",
        "String1 = \"{0:b}\".format(16)\n",
        "print(\"\\nBinary representation of 16 is \")\n",
        "print(String1)\n",
        "\n",
        "# Formatting of Floats\n",
        "String1 = \"{0:e}\".format(165.6458)\n",
        "print(\"\\nExponent representation of 165.6458 is \")\n",
        "print(String1)\n",
        "\n",
        "# Rounding off Integers\n",
        "String1 = \"{0:.2f}\".format(1/6)\n",
        "print(\"\\none-sixth is : \")\n",
        "print(String1)\n"
      ],
      "metadata": {
        "colab": {
          "base_uri": "https://localhost:8080/"
        },
        "id": "QI43UBUz-zGd",
        "outputId": "715b5e4c-ae3e-4e6e-bca2-a5550e8c54bf"
      },
      "execution_count": null,
      "outputs": [
        {
          "output_type": "stream",
          "name": "stdout",
          "text": [
            "\n",
            "Binary representation of 16 is \n",
            "10000\n",
            "\n",
            "Exponent representation of 165.6458 is \n",
            "1.656458e+02\n",
            "\n",
            "one-sixth is : \n",
            "0.17\n"
          ]
        }
      ]
    },
    {
      "cell_type": "code",
      "source": [
        "# Python Program for\n",
        "# Old Style Formatting\n",
        "# of Integers\n",
        "\n",
        "Integer1 = 12.3456789\n",
        "print(\"Formatting in 3.2f format: \")\n",
        "print('The value of Integer1 is%3.2f' % Integer1)\n",
        "print(\"\\nFormatting in 3.4f format: \")\n",
        "print('The value of Integer1 is %3.4f' % Integer1)\n"
      ],
      "metadata": {
        "colab": {
          "base_uri": "https://localhost:8080/"
        },
        "id": "8GWFBcWN_Vme",
        "outputId": "8f1fa440-bb35-40fd-9461-43f9e1dc177a"
      },
      "execution_count": null,
      "outputs": [
        {
          "output_type": "stream",
          "name": "stdout",
          "text": [
            "Formatting in 3.2f format: \n",
            "The value of Integer1 is12.35\n",
            "\n",
            "Formatting in 3.4f format: \n",
            "The value of Integer1 is 12.3457\n",
            "Formatting in 3.2f format: \n",
            "The value of Integer1 is12.35\n",
            "\n",
            "Formatting in 3.4f format: \n",
            "The value of Integer1 is 12.3457\n"
          ]
        }
      ]
    },
    {
      "cell_type": "code",
      "source": [
        "ord('a')"
      ],
      "metadata": {
        "colab": {
          "base_uri": "https://localhost:8080/"
        },
        "id": "LoqgGe5WDoDJ",
        "outputId": "57cdbaa0-4917-44bd-ef07-a46ee04407b8"
      },
      "execution_count": null,
      "outputs": [
        {
          "output_type": "execute_result",
          "data": {
            "text/plain": [
              "97"
            ]
          },
          "metadata": {},
          "execution_count": 14
        }
      ]
    },
    {
      "cell_type": "code",
      "source": [
        "chr(97)"
      ],
      "metadata": {
        "colab": {
          "base_uri": "https://localhost:8080/",
          "height": 35
        },
        "id": "Icuah9NZDvWT",
        "outputId": "4e2c986e-b303-4d54-c5b0-520b24d2ac92"
      },
      "execution_count": null,
      "outputs": [
        {
          "output_type": "execute_result",
          "data": {
            "text/plain": [
              "'a'"
            ],
            "application/vnd.google.colaboratory.intrinsic+json": {
              "type": "string"
            }
          },
          "metadata": {},
          "execution_count": 15
        }
      ]
    },
    {
      "cell_type": "markdown",
      "source": [
        "https://www.geeksforgeeks.org/python-string/?ref=lbp"
      ],
      "metadata": {
        "id": "Y16ZVvtFPTOj"
      }
    },
    {
      "cell_type": "markdown",
      "source": [
        "https://pynative.com/python-string-quiz/"
      ],
      "metadata": {
        "id": "9TT5lsRGPJSY"
      }
    },
    {
      "cell_type": "markdown",
      "source": [
        "https://www.hackerrank.com/challenges/find-a-string/problem?isFullScreen=true"
      ],
      "metadata": {
        "id": "x-rSyLC3PvGt"
      }
    },
    {
      "cell_type": "code",
      "source": [],
      "metadata": {
        "id": "JhrGrnR5PK-Z"
      },
      "execution_count": null,
      "outputs": []
    },
    {
      "cell_type": "markdown",
      "source": [
        "https://www.hackerrank.com/domains/python?filters%5Bstatus%5D%5B%5D=unsolved&badge_type=python"
      ],
      "metadata": {
        "id": "zlqzRQLwRQg9"
      }
    },
    {
      "cell_type": "code",
      "source": [
        "s=input()\n",
        "print (s.replace('I','We'))"
      ],
      "metadata": {
        "id": "DkZXOZJH2tdI",
        "outputId": "9a16cc90-6a8a-4e67-ca93-862adcf6fd09",
        "colab": {
          "base_uri": "https://localhost:8080/"
        }
      },
      "execution_count": 9,
      "outputs": [
        {
          "output_type": "stream",
          "name": "stdout",
          "text": [
            "I can speak Persian\n",
            "We can speak Persian\n"
          ]
        }
      ]
    },
    {
      "cell_type": "code",
      "source": [
        "s=input()\n",
        "print (s.split())"
      ],
      "metadata": {
        "id": "vF_Ud2zy1tV3",
        "outputId": "69e26511-d53b-4d59-9755-a76349280cd3",
        "colab": {
          "base_uri": "https://localhost:8080/"
        }
      },
      "execution_count": 8,
      "outputs": [
        {
          "output_type": "stream",
          "name": "stdout",
          "text": [
            "ds gr jj76 as\n",
            "['ds', 'gr', 'jj76', 'as']\n"
          ]
        }
      ]
    },
    {
      "cell_type": "code",
      "source": [
        "s=input()\n",
        "for ch in range(ord('a'),ord('z')):\n",
        "  print (chr(ch),\":\",s.count(chr(ch)))"
      ],
      "metadata": {
        "id": "cso9ZAWPRSFV",
        "outputId": "8de3f16d-b26d-4d82-9339-7ddd043cc4a3",
        "colab": {
          "base_uri": "https://localhost:8080/"
        }
      },
      "execution_count": 7,
      "outputs": [
        {
          "output_type": "stream",
          "name": "stdout",
          "text": [
            "zfdsv dogiuqm  vsdfsZGGdh\n",
            "a : 0\n",
            "b : 0\n",
            "c : 0\n",
            "d : 4\n",
            "e : 0\n",
            "f : 2\n",
            "g : 1\n",
            "h : 1\n",
            "i : 1\n",
            "j : 0\n",
            "k : 0\n",
            "l : 0\n",
            "m : 1\n",
            "n : 0\n",
            "o : 1\n",
            "p : 0\n",
            "q : 1\n",
            "r : 0\n",
            "s : 3\n",
            "t : 0\n",
            "u : 1\n",
            "v : 2\n",
            "w : 0\n",
            "x : 0\n",
            "y : 0\n"
          ]
        }
      ]
    }
  ]
}