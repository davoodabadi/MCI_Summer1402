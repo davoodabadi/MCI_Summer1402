{
  "nbformat": 4,
  "nbformat_minor": 0,
  "metadata": {
    "colab": {
      "provenance": [],
      "toc_visible": true,
      "authorship_tag": "ABX9TyODGDyGE6Vwa9RIlvbn8A+p",
      "include_colab_link": true
    },
    "kernelspec": {
      "name": "python3",
      "display_name": "Python 3"
    },
    "language_info": {
      "name": "python"
    }
  },
  "cells": [
    {
      "cell_type": "markdown",
      "metadata": {
        "id": "view-in-github",
        "colab_type": "text"
      },
      "source": [
        "<a href=\"https://colab.research.google.com/github/davoodabadi/MCI_Summer1402/blob/main/PythonRefs.ipynb\" target=\"_parent\"><img src=\"https://colab.research.google.com/assets/colab-badge.svg\" alt=\"Open In Colab\"/></a>"
      ]
    },
    {
      "cell_type": "markdown",
      "source": [
        "# References:"
      ],
      "metadata": {
        "id": "NBiN6J5Y8ao_"
      }
    },
    {
      "cell_type": "markdown",
      "source": [],
      "metadata": {
        "id": "rlNTa3dX8Zi4"
      }
    },
    {
      "cell_type": "markdown",
      "source": [
        "https://www.py4e.com/lessons\n"
      ],
      "metadata": {
        "id": "IbKmP0TR8qFB"
      }
    },
    {
      "cell_type": "markdown",
      "source": [
        "https://www.w3schools.com/python/python_strings.asp"
      ],
      "metadata": {
        "id": "KQdtNP8t9CJm"
      }
    },
    {
      "cell_type": "markdown",
      "source": [
        "https://ocw.mit.edu/courses/6-0001-introduction-to-computer-science-and-programming-in-python-fall-2016/pages/in-class-questions-and-video-solutions/lecture-2/"
      ],
      "metadata": {
        "id": "SNMCy_H79KKm"
      }
    },
    {
      "cell_type": "markdown",
      "source": [],
      "metadata": {
        "id": "7QJu5YNZ893X"
      }
    },
    {
      "cell_type": "markdown",
      "source": [
        "https://www.tutorialspoint.com/python/python_reg_expressions.htm"
      ],
      "metadata": {
        "id": "2Yq9y52f9ezY"
      }
    },
    {
      "cell_type": "markdown",
      "source": [],
      "metadata": {
        "id": "SfHDf-bU8LXm"
      }
    },
    {
      "cell_type": "markdown",
      "source": [
        "https://pynative.com/python-if-else-and-for-loop-exercise-with-solutions/"
      ],
      "metadata": {
        "id": "wzq5CtdO9ghA"
      }
    },
    {
      "cell_type": "markdown",
      "source": [
        "https://github.com/Rafiei-tayebe/AP4012"
      ],
      "metadata": {
        "id": "5QojG5AW9qWG"
      }
    },
    {
      "cell_type": "code",
      "source": [],
      "metadata": {
        "id": "o4dl34g8972a"
      },
      "execution_count": null,
      "outputs": []
    },
    {
      "cell_type": "markdown",
      "source": [
        "https://www.tutorialsteacher.com/python/exception-handling-in-python"
      ],
      "metadata": {
        "id": "eqVnl70998wd"
      }
    },
    {
      "cell_type": "code",
      "source": [],
      "metadata": {
        "id": "qv-kJTw--Ssa"
      },
      "execution_count": null,
      "outputs": []
    },
    {
      "cell_type": "markdown",
      "source": [
        "https://www.geeksforgeeks.org/python-tkinter-tutorial/"
      ],
      "metadata": {
        "id": "W5OKiL97-T-V"
      }
    },
    {
      "cell_type": "code",
      "source": [],
      "metadata": {
        "id": "yAwHaH3d-VHN"
      },
      "execution_count": null,
      "outputs": []
    },
    {
      "cell_type": "markdown",
      "source": [
        "https://blog.faradars.org/%D8%A2%D9%85%D9%88%D8%B2%D8%B4-%D9%87%D8%A7%DB%8C-%D8%B1%D8%A7%DB%8C%DA%AF%D8%A7%D9%86-%D8%AC%D8%A7%D8%AF%DB%8C/"
      ],
      "metadata": {
        "id": "0CveP6nU-d0-"
      }
    },
    {
      "cell_type": "code",
      "source": [],
      "metadata": {
        "id": "2w1EnPYp-fIc"
      },
      "execution_count": null,
      "outputs": []
    },
    {
      "cell_type": "markdown",
      "source": [
        "https://www.hackerrank.com/challenges/py-if-else/problem?isFullScreen=true"
      ],
      "metadata": {
        "id": "PVh7N9M2-kVu"
      }
    },
    {
      "cell_type": "code",
      "source": [],
      "metadata": {
        "id": "uvlFZP3_-lBz"
      },
      "execution_count": null,
      "outputs": []
    },
    {
      "cell_type": "markdown",
      "source": [
        "https://gotoclass.ir/courses/%D8%A2%D9%85%D9%88%D8%B2%D8%B4-%D9%BE%D8%A7%DB%8C%D8%AA%D9%88%D9%86/"
      ],
      "metadata": {
        "id": "g925BFfB-qVM"
      }
    },
    {
      "cell_type": "code",
      "source": [],
      "metadata": {
        "id": "P6oMyT4_-rZq"
      },
      "execution_count": null,
      "outputs": []
    },
    {
      "cell_type": "markdown",
      "source": [
        "https://www.limoonad.com/mcourse/inlearning/172732"
      ],
      "metadata": {
        "id": "LIOvu-Fp-vHl"
      }
    },
    {
      "cell_type": "code",
      "source": [],
      "metadata": {
        "id": "bkWeQF63-wYK"
      },
      "execution_count": null,
      "outputs": []
    },
    {
      "cell_type": "markdown",
      "source": [
        "https://docs.python.org/3/library/functions.html"
      ],
      "metadata": {
        "id": "gz6Y7Tx0-04m"
      }
    },
    {
      "cell_type": "code",
      "source": [],
      "metadata": {
        "id": "oID3yYX0-1tu"
      },
      "execution_count": null,
      "outputs": []
    },
    {
      "cell_type": "markdown",
      "source": [
        "https://docs.python.org/3/library/stdtypes.html#string-methods"
      ],
      "metadata": {
        "id": "hxl3w8kM-710"
      }
    },
    {
      "cell_type": "code",
      "source": [],
      "metadata": {
        "id": "zhdsxMQD-8uJ"
      },
      "execution_count": null,
      "outputs": []
    },
    {
      "cell_type": "code",
      "source": [
        "from google.colab import drive\n",
        "drive.mount('/content/drive')"
      ],
      "metadata": {
        "id": "hVdps5sPeppE"
      },
      "execution_count": null,
      "outputs": []
    },
    {
      "cell_type": "code",
      "source": [
        "a=10"
      ],
      "metadata": {
        "id": "I2o6gHMOnXgO"
      },
      "execution_count": null,
      "outputs": []
    }
  ]
}