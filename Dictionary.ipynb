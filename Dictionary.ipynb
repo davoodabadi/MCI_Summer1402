{
  "nbformat": 4,
  "nbformat_minor": 0,
  "metadata": {
    "colab": {
      "provenance": [],
      "authorship_tag": "ABX9TyMohPqe44nUf7SMI9GqlySJ",
      "include_colab_link": true
    },
    "kernelspec": {
      "name": "python3",
      "display_name": "Python 3"
    },
    "language_info": {
      "name": "python"
    }
  },
  "cells": [
    {
      "cell_type": "markdown",
      "metadata": {
        "id": "view-in-github",
        "colab_type": "text"
      },
      "source": [
        "<a href=\"https://colab.research.google.com/github/davoodabadi/MCI_Summer1402/blob/main/Dictionary.ipynb\" target=\"_parent\"><img src=\"https://colab.research.google.com/assets/colab-badge.svg\" alt=\"Open In Colab\"/></a>"
      ]
    },
    {
      "cell_type": "markdown",
      "source": [
        "is      ==     change the copy"
      ],
      "metadata": {
        "id": "4YBSz87T2rgx"
      }
    },
    {
      "cell_type": "code",
      "source": [
        "a=[4,6]\n",
        "b=a\n",
        "c=b is a\n",
        "print(c)"
      ],
      "metadata": {
        "colab": {
          "base_uri": "https://localhost:8080/"
        },
        "id": "q6igErk43HU5",
        "outputId": "c451d418-a178-4142-9a0f-ca6538664a78"
      },
      "execution_count": null,
      "outputs": [
        {
          "output_type": "stream",
          "name": "stdout",
          "text": [
            "True\n"
          ]
        }
      ]
    },
    {
      "cell_type": "code",
      "source": [
        "b[1]=12\n",
        "print (a)"
      ],
      "metadata": {
        "colab": {
          "base_uri": "https://localhost:8080/"
        },
        "id": "DwiAzKNz3axa",
        "outputId": "104e2b4d-f713-40f0-ff6f-caafd9cbc2d8"
      },
      "execution_count": null,
      "outputs": [
        {
          "output_type": "stream",
          "name": "stdout",
          "text": [
            "[4, 12]\n"
          ]
        }
      ]
    },
    {
      "cell_type": "code",
      "source": [
        "h={2:\"Maryam\",3:\"Ali\"}\n",
        "print (h)"
      ],
      "metadata": {
        "colab": {
          "base_uri": "https://localhost:8080/"
        },
        "id": "4txZ2Y1K3uUW",
        "outputId": "250f84b0-6910-4e9f-ff4f-c42e783f7575"
      },
      "execution_count": null,
      "outputs": [
        {
          "output_type": "stream",
          "name": "stdout",
          "text": [
            "{2: 'Maryam', 3: 'Ali'}\n"
          ]
        }
      ]
    },
    {
      "cell_type": "code",
      "source": [
        "k=h\n",
        "h[2]=\"Elham\"\n",
        "print (k)"
      ],
      "metadata": {
        "colab": {
          "base_uri": "https://localhost:8080/"
        },
        "id": "jWlzLQY13Vda",
        "outputId": "86ff8651-6de2-4b18-f1da-46163fea14df"
      },
      "execution_count": null,
      "outputs": [
        {
          "output_type": "stream",
          "name": "stdout",
          "text": [
            "{2: 'Elham', 3: 'Ali'}\n"
          ]
        }
      ]
    },
    {
      "cell_type": "code",
      "execution_count": null,
      "metadata": {
        "colab": {
          "base_uri": "https://localhost:8080/"
        },
        "id": "Pl23v8WnOjsr",
        "outputId": "fd0ae4bd-3151-41c6-cf4e-07268d050536"
      },
      "outputs": [
        {
          "output_type": "stream",
          "name": "stdout",
          "text": [
            "fgfhjgv hgxggg sdshl\n",
            "{'f': 2, 'g': 6, 'h': 3, 'j': 1, 'v': 1, ' ': 2, 'x': 1, 's': 2, 'd': 1, 'l': 1}\n"
          ]
        }
      ],
      "source": [
        "a={}\n",
        "s=input()\n",
        "for ch in s:\n",
        "  if ch not in a:\n",
        "    a[ch]=1\n",
        "  else:\n",
        "    a[ch]+=1\n",
        "print(a)"
      ]
    },
    {
      "cell_type": "code",
      "source": [
        "print(a.keys())"
      ],
      "metadata": {
        "colab": {
          "base_uri": "https://localhost:8080/"
        },
        "id": "qFDOReKHSdb6",
        "outputId": "8f284dc7-f538-4ad9-dbd3-b351fc21586a"
      },
      "execution_count": null,
      "outputs": [
        {
          "output_type": "stream",
          "name": "stdout",
          "text": [
            "dict_keys(['f', 'v', 'a', ' ', 'h', 'j', 's', 'g', 't', 'n', 'e', 'r', 'y'])\n"
          ]
        }
      ]
    },
    {
      "cell_type": "code",
      "source": [
        "print (min(a.values()))"
      ],
      "metadata": {
        "colab": {
          "base_uri": "https://localhost:8080/"
        },
        "id": "ufOEV8bnSnyS",
        "outputId": "cb6e340f-47f8-426d-f196-550d6645f855"
      },
      "execution_count": null,
      "outputs": [
        {
          "output_type": "stream",
          "name": "stdout",
          "text": [
            "1\n"
          ]
        }
      ]
    },
    {
      "cell_type": "code",
      "source": [
        "for x in a:\n",
        "  print(x,a[x])"
      ],
      "metadata": {
        "colab": {
          "base_uri": "https://localhost:8080/"
        },
        "id": "Smx-bnVwSr8d",
        "outputId": "94aa5a01-742a-4810-a1b5-49571d8d2832"
      },
      "execution_count": null,
      "outputs": [
        {
          "output_type": "stream",
          "name": "stdout",
          "text": [
            "f 1\n",
            "v 1\n",
            "a 2\n",
            "  2\n",
            "h 3\n",
            "j 1\n",
            "s 1\n",
            "g 1\n",
            "t 2\n",
            "n 1\n",
            "e 1\n",
            "r 1\n",
            "y 1\n"
          ]
        }
      ]
    },
    {
      "cell_type": "code",
      "source": [
        "Dict = {1: 'Geeks', 2: 'For', 3: 'Geeks'}\n",
        "print(Dict)"
      ],
      "metadata": {
        "colab": {
          "base_uri": "https://localhost:8080/"
        },
        "id": "dWJuTeHkvxWc",
        "outputId": "affaeb29-ec86-403b-f271-f30a8d91a48e"
      },
      "execution_count": null,
      "outputs": [
        {
          "output_type": "stream",
          "name": "stdout",
          "text": [
            "{1: 'Geeks', 2: 'For', 3: 'Geeks'}\n"
          ]
        }
      ]
    },
    {
      "cell_type": "code",
      "source": [
        "Dict = {'Name': 'Geeks', 1: [1, 2, 3, 4]}\n",
        "print(\"\\nDictionary with the use of Mixed Keys: \")\n",
        "print(Dict)"
      ],
      "metadata": {
        "colab": {
          "base_uri": "https://localhost:8080/"
        },
        "id": "deB05vHz_RS6",
        "outputId": "9dc6bc19-e7fc-4f72-efff-86d60e2bfe39"
      },
      "execution_count": null,
      "outputs": [
        {
          "output_type": "stream",
          "name": "stdout",
          "text": [
            "\n",
            "Dictionary with the use of Mixed Keys: \n",
            "{'Name': 'Geeks', 1: [1, 2, 3, 4]}\n"
          ]
        }
      ]
    },
    {
      "cell_type": "code",
      "source": [
        "Dict = dict([(1, 'Geeks'), (2, 'For')])\n",
        "print(\"\\nDictionary with each item as a pair: \")\n",
        "print(Dict)"
      ],
      "metadata": {
        "colab": {
          "base_uri": "https://localhost:8080/"
        },
        "id": "7ogzzEnF_SGf",
        "outputId": "932d657d-c2fc-4025-fa05-b617ae249516"
      },
      "execution_count": null,
      "outputs": [
        {
          "output_type": "stream",
          "name": "stdout",
          "text": [
            "\n",
            "Dictionary with each item as a pair: \n",
            "{1: 'Geeks', 2: 'For'}\n"
          ]
        }
      ]
    },
    {
      "cell_type": "code",
      "source": [
        "Dict = {1: 'Geeks', 2: 'For',\n",
        "        3: {'A': 'Welcome', 'B': 'To', 'C': 'Geeks'}}\n",
        "\n",
        "print(Dict)"
      ],
      "metadata": {
        "colab": {
          "base_uri": "https://localhost:8080/"
        },
        "id": "kg5nkLEC_R0X",
        "outputId": "da29c2a6-2650-4ab8-f80f-7b0479e9c858"
      },
      "execution_count": null,
      "outputs": [
        {
          "output_type": "stream",
          "name": "stdout",
          "text": [
            "{1: 'Geeks', 2: 'For', 3: {'A': 'Welcome', 'B': 'To', 'C': 'Geeks'}}\n"
          ]
        }
      ]
    },
    {
      "cell_type": "code",
      "source": [
        "Dict = {1: 'Geeks', 'name': 'For', 3: 'Geeks'}\n",
        "\n",
        "print(Dict.get(3))"
      ],
      "metadata": {
        "id": "hX2CZHTNCe-O"
      },
      "execution_count": null,
      "outputs": []
    },
    {
      "cell_type": "code",
      "source": [
        "Dict = {'Dict1': {1: 'Geeks'},\n",
        "        'Dict2': {'Name': 'For'}}\n",
        "\n",
        "# Accessing element using key\n",
        "print(Dict['Dict1'])\n",
        "print(Dict['Dict1'][1])\n",
        "print(Dict['Dict2']['Name'])"
      ],
      "metadata": {
        "id": "GsCwsQOgDsqJ",
        "colab": {
          "base_uri": "https://localhost:8080/"
        },
        "outputId": "1f62298b-eb23-48da-d772-b7e78da53758"
      },
      "execution_count": null,
      "outputs": [
        {
          "output_type": "stream",
          "name": "stdout",
          "text": [
            "{1: 'Geeks'}\n",
            "Geeks\n",
            "For\n"
          ]
        }
      ]
    },
    {
      "cell_type": "code",
      "source": [
        "Dict = {1: 'Geeks', 'name': 'For', 3: 'Geeks'}\n",
        "\n",
        "print(\"Dictionary =\")\n",
        "print(Dict)\n",
        "#Deleting some of the Dictionar data\n",
        "del(Dict[1])\n",
        "print(\"Data after deletion Dictionary=\")\n",
        "print(Dict)"
      ],
      "metadata": {
        "colab": {
          "base_uri": "https://localhost:8080/"
        },
        "id": "yuHMS3JILcXg",
        "outputId": "3e152180-1d4e-4183-b8de-a5835fdb0e2d"
      },
      "execution_count": null,
      "outputs": [
        {
          "output_type": "stream",
          "name": "stdout",
          "text": [
            "Dictionary =\n",
            "{1: 'Geeks', 'name': 'For', 3: 'Geeks'}\n",
            "Data after deletion Dictionary=\n",
            "{'name': 'For', 3: 'Geeks'}\n"
          ]
        }
      ]
    },
    {
      "cell_type": "code",
      "source": [
        "# demo for all dictionary methods\n",
        "dict1 = {1: \"Python\", 2: \"Java\", 3: \"Ruby\", 4: \"Scala\"}\n",
        "\n",
        "# copy() method\n",
        "dict2 = dict1.copy()\n",
        "print(dict2)\n",
        "\n",
        "# clear() method\n",
        "dict1.clear()\n",
        "print(dict1)\n",
        "\n",
        "# get() method\n",
        "print(dict2.get(1))\n",
        "\n",
        "# items() method\n",
        "print(dict2.items())\n",
        "\n",
        "# keys() method\n",
        "print(dict2.keys())\n",
        "\n",
        "# pop() method\n",
        "dict2.pop(4)\n",
        "print(dict2)\n",
        "\n",
        "# popitem() method\n",
        "dict2.popitem()\n",
        "print(dict2)\n",
        "\n",
        "# update() method\n",
        "dict2.update({3: \"Scala\"})\n",
        "print(dict2)\n",
        "\n",
        "# values() method\n",
        "print(dict2.values())"
      ],
      "metadata": {
        "colab": {
          "base_uri": "https://localhost:8080/"
        },
        "id": "ITxzkRpLLcHY",
        "outputId": "0d154e45-2e46-44f6-decb-e639aa98775e"
      },
      "execution_count": null,
      "outputs": [
        {
          "output_type": "stream",
          "name": "stdout",
          "text": [
            "{1: 'Python', 2: 'Java', 3: 'Ruby', 4: 'Scala'}\n",
            "{}\n",
            "Python\n",
            "dict_items([(1, 'Python'), (2, 'Java'), (3, 'Ruby'), (4, 'Scala')])\n",
            "dict_keys([1, 2, 3, 4])\n",
            "{1: 'Python', 2: 'Java', 3: 'Ruby'}\n",
            "{1: 'Python', 2: 'Java'}\n",
            "{1: 'Python', 2: 'Java', 3: 'Scala'}\n",
            "dict_values(['Python', 'Java', 'Scala'])\n"
          ]
        }
      ]
    },
    {
      "cell_type": "code",
      "source": [],
      "metadata": {
        "id": "-Vn355ljaNd3"
      },
      "execution_count": null,
      "outputs": []
    },
    {
      "cell_type": "code",
      "source": [],
      "metadata": {
        "id": "14x8jus0aNIr"
      },
      "execution_count": null,
      "outputs": []
    },
    {
      "cell_type": "code",
      "source": [
        "x =set([\"Postcard\",\"Whatsapp\",\"Telegram\"])"
      ],
      "metadata": {
        "id": "b-S_qCM9Uap7"
      },
      "execution_count": null,
      "outputs": []
    },
    {
      "cell_type": "code",
      "source": [
        "x.add(\"Instagram\")"
      ],
      "metadata": {
        "id": "VhWq_hBmUkbp"
      },
      "execution_count": null,
      "outputs": []
    },
    {
      "cell_type": "code",
      "source": [
        "y=set([\"bale\",\"Instagram\"])"
      ],
      "metadata": {
        "id": "Sbq8mZFdUtWv"
      },
      "execution_count": null,
      "outputs": []
    },
    {
      "cell_type": "code",
      "source": [
        "z=x|y\n",
        "print(z)"
      ],
      "metadata": {
        "colab": {
          "base_uri": "https://localhost:8080/"
        },
        "id": "qSZU5cEZmQ0s",
        "outputId": "6e11b64d-3553-4c77-b275-96db75214fdf"
      },
      "execution_count": null,
      "outputs": [
        {
          "output_type": "stream",
          "name": "stdout",
          "text": [
            "{'Telegram', 'Postcard', 'bale', 'Whatsapp', 'Instagram'}\n"
          ]
        }
      ]
    },
    {
      "cell_type": "code",
      "source": [
        "z=x&y\n",
        "print (z)"
      ],
      "metadata": {
        "colab": {
          "base_uri": "https://localhost:8080/"
        },
        "id": "hD6xfFthU9Hw",
        "outputId": "60af3431-e905-40b8-9056-72dddd2ecde1"
      },
      "execution_count": null,
      "outputs": [
        {
          "output_type": "stream",
          "name": "stdout",
          "text": [
            "{'Instagram'}\n"
          ]
        }
      ]
    },
    {
      "cell_type": "code",
      "source": [
        "z=x^y\n",
        "print (z)"
      ],
      "metadata": {
        "colab": {
          "base_uri": "https://localhost:8080/"
        },
        "id": "ybCdhA23nJi-",
        "outputId": "ccc7d0fa-0b1e-46ad-8284-12bf4c0ad1c9"
      },
      "execution_count": null,
      "outputs": [
        {
          "output_type": "stream",
          "name": "stdout",
          "text": [
            "{'Postcard', 'Telegram', 'bale', 'Whatsapp'}\n"
          ]
        }
      ]
    },
    {
      "cell_type": "code",
      "source": [
        "z=x.discard('bale')\n",
        "print (x)"
      ],
      "metadata": {
        "colab": {
          "base_uri": "https://localhost:8080/"
        },
        "id": "Mjl2CPv2nepl",
        "outputId": "4b4e1041-d92e-4b22-a53f-3bb94dc6feb8"
      },
      "execution_count": null,
      "outputs": [
        {
          "output_type": "stream",
          "name": "stdout",
          "text": [
            "{'Whatsapp', 'Telegram', 'Postcard', 'Instagram'}\n"
          ]
        }
      ]
    },
    {
      "cell_type": "code",
      "source": [],
      "metadata": {
        "id": "jAju9S1R_NWA"
      },
      "execution_count": null,
      "outputs": []
    },
    {
      "cell_type": "code",
      "source": [
        "a={100:'hello',200:\"hi\"}\n",
        "print (a)"
      ],
      "metadata": {
        "colab": {
          "base_uri": "https://localhost:8080/"
        },
        "id": "35Z66nvU8f4a",
        "outputId": "0d18a6ad-ad91-4502-b0cf-d073256ef58b"
      },
      "execution_count": null,
      "outputs": [
        {
          "output_type": "stream",
          "name": "stdout",
          "text": [
            "{100: 'hello', 200: 'hi'}\n"
          ]
        }
      ]
    },
    {
      "cell_type": "code",
      "source": [
        "print (a[100])"
      ],
      "metadata": {
        "colab": {
          "base_uri": "https://localhost:8080/"
        },
        "id": "eS5iMGbV8rUL",
        "outputId": "895a2b69-3749-41a0-d41d-a2000badfa90"
      },
      "execution_count": null,
      "outputs": [
        {
          "output_type": "stream",
          "name": "stdout",
          "text": [
            "hello\n"
          ]
        }
      ]
    },
    {
      "cell_type": "code",
      "source": [
        "a[300]='goodbye'\n",
        "print (a)"
      ],
      "metadata": {
        "colab": {
          "base_uri": "https://localhost:8080/"
        },
        "id": "FRuR6w3M8ysH",
        "outputId": "35b64a41-d8dd-48a4-8740-eace2f68cb99"
      },
      "execution_count": null,
      "outputs": [
        {
          "output_type": "stream",
          "name": "stdout",
          "text": [
            "{100: 'hello', 200: 'hi', 300: 'goodbye'}\n"
          ]
        }
      ]
    },
    {
      "cell_type": "code",
      "source": [
        "a[200]='Hi'"
      ],
      "metadata": {
        "id": "DKpHTHVr86Rc"
      },
      "execution_count": null,
      "outputs": []
    },
    {
      "cell_type": "code",
      "source": [
        "a.pop(100)\n",
        "print (a)"
      ],
      "metadata": {
        "colab": {
          "base_uri": "https://localhost:8080/"
        },
        "id": "V08QHMP48-lQ",
        "outputId": "ed266849-5c48-4d16-b6e8-7495cc14c32e"
      },
      "execution_count": null,
      "outputs": [
        {
          "output_type": "stream",
          "name": "stdout",
          "text": [
            "{200: 'Hi', 300: 'goodbye'}\n"
          ]
        }
      ]
    },
    {
      "cell_type": "code",
      "source": [
        "a.popitem()\n",
        "print (a)"
      ],
      "metadata": {
        "colab": {
          "base_uri": "https://localhost:8080/"
        },
        "id": "8518WcqK9Nrj",
        "outputId": "68c713a8-eda5-4c57-e959-2ce42fd8c761"
      },
      "execution_count": null,
      "outputs": [
        {
          "output_type": "stream",
          "name": "stdout",
          "text": [
            "{200: 'Hi'}\n"
          ]
        }
      ]
    },
    {
      "cell_type": "code",
      "source": [
        "a.update({200:'Hello',400:\"hii\"})\n",
        "print (a)"
      ],
      "metadata": {
        "colab": {
          "base_uri": "https://localhost:8080/"
        },
        "id": "IYYy_KNM_APZ",
        "outputId": "48a5619d-62b8-4e69-fbf7-36af68c8949b"
      },
      "execution_count": null,
      "outputs": [
        {
          "output_type": "stream",
          "name": "stdout",
          "text": [
            "{200: 'Hello', 400: 'hii'}\n"
          ]
        }
      ]
    },
    {
      "cell_type": "code",
      "source": [
        "print (a.get(200))"
      ],
      "metadata": {
        "colab": {
          "base_uri": "https://localhost:8080/"
        },
        "id": "9DovThwe_1jA",
        "outputId": "806d66d7-7761-4d38-b727-6f949e735532"
      },
      "execution_count": null,
      "outputs": [
        {
          "output_type": "stream",
          "name": "stdout",
          "text": [
            "Hello\n"
          ]
        }
      ]
    },
    {
      "cell_type": "code",
      "source": [
        "print (a)"
      ],
      "metadata": {
        "colab": {
          "base_uri": "https://localhost:8080/"
        },
        "id": "ENDDHUO4__-n",
        "outputId": "b68319c4-987e-4b5e-faa0-c88229a60e50"
      },
      "execution_count": null,
      "outputs": [
        {
          "output_type": "stream",
          "name": "stdout",
          "text": [
            "{200: 'Hello', 400: 'hii'}\n"
          ]
        }
      ]
    },
    {
      "cell_type": "code",
      "source": [
        "print (a.keys())"
      ],
      "metadata": {
        "colab": {
          "base_uri": "https://localhost:8080/"
        },
        "id": "2WoOEMVbAEec",
        "outputId": "d55117f4-090d-486c-a818-d35baaf9c283"
      },
      "execution_count": null,
      "outputs": [
        {
          "output_type": "stream",
          "name": "stdout",
          "text": [
            "dict_keys([200, 400])\n"
          ]
        }
      ]
    },
    {
      "cell_type": "code",
      "source": [
        "print (a.values())"
      ],
      "metadata": {
        "colab": {
          "base_uri": "https://localhost:8080/"
        },
        "id": "KKMm6F24ARgo",
        "outputId": "cab008a0-dfd4-4c02-e404-83729925e966"
      },
      "execution_count": null,
      "outputs": [
        {
          "output_type": "stream",
          "name": "stdout",
          "text": [
            "dict_values(['Hello', 'hii'])\n"
          ]
        }
      ]
    },
    {
      "cell_type": "code",
      "source": [
        "del(a[200])\n",
        "print (a)"
      ],
      "metadata": {
        "colab": {
          "base_uri": "https://localhost:8080/"
        },
        "id": "_W8DYJqaApW4",
        "outputId": "4d407453-4aed-4b76-ca16-88dbc678f9ba"
      },
      "execution_count": null,
      "outputs": [
        {
          "output_type": "stream",
          "name": "stdout",
          "text": [
            "{400: 'hii'}\n"
          ]
        }
      ]
    },
    {
      "cell_type": "code",
      "source": [],
      "metadata": {
        "id": "pK0K64dZAzjF"
      },
      "execution_count": null,
      "outputs": []
    },
    {
      "cell_type": "code",
      "source": [
        "b=set([\"hi\",\"hello\",\"goodbye\"])"
      ],
      "metadata": {
        "id": "sgpRWpPGAzau"
      },
      "execution_count": null,
      "outputs": []
    },
    {
      "cell_type": "code",
      "source": [
        "b.add(\"jjjjjjj\")\n"
      ],
      "metadata": {
        "id": "d0LPdrkOBGr-"
      },
      "execution_count": null,
      "outputs": []
    },
    {
      "cell_type": "code",
      "source": [
        "print (b)"
      ],
      "metadata": {
        "colab": {
          "base_uri": "https://localhost:8080/"
        },
        "id": "HvXivtcoBx1B",
        "outputId": "81b65566-f39d-41e7-ea79-8676ba446625"
      },
      "execution_count": null,
      "outputs": [
        {
          "output_type": "stream",
          "name": "stdout",
          "text": [
            "{'hello', 'goodbye', 'hi', 'jjjjjjj'}\n"
          ]
        }
      ]
    },
    {
      "cell_type": "code",
      "source": [
        "b.pop()\n",
        "print (b)"
      ],
      "metadata": {
        "colab": {
          "base_uri": "https://localhost:8080/"
        },
        "id": "bENKKl1kBjuW",
        "outputId": "fb3e72dc-cda4-45c3-8151-00ac7010fdae"
      },
      "execution_count": null,
      "outputs": [
        {
          "output_type": "stream",
          "name": "stdout",
          "text": [
            "{'goodbye', 'hi', 'jjjjjjj'}\n"
          ]
        }
      ]
    },
    {
      "cell_type": "code",
      "source": [
        "b.discard('hi')\n",
        "print (b)"
      ],
      "metadata": {
        "colab": {
          "base_uri": "https://localhost:8080/"
        },
        "id": "t4Hjsvn2D3Ww",
        "outputId": "871fb3dd-4170-4ad6-8e02-f41f2c0da711"
      },
      "execution_count": null,
      "outputs": [
        {
          "output_type": "stream",
          "name": "stdout",
          "text": [
            "{'goodbye', 'jjjjjjj'}\n"
          ]
        }
      ]
    },
    {
      "cell_type": "code",
      "source": [
        "c=set(['سلام','خداحافظ'])"
      ],
      "metadata": {
        "id": "8j4yfQ07EHz0"
      },
      "execution_count": null,
      "outputs": []
    },
    {
      "cell_type": "code",
      "source": [
        "d=b^c\n",
        "print (d)"
      ],
      "metadata": {
        "colab": {
          "base_uri": "https://localhost:8080/"
        },
        "id": "4rvPVTDEEUOy",
        "outputId": "f296f23d-ade1-4387-c6b5-6186baea678f"
      },
      "execution_count": null,
      "outputs": [
        {
          "output_type": "stream",
          "name": "stdout",
          "text": [
            "{'goodbye', 'jjjjjjj', 'خداحافظ', 'سلام'}\n"
          ]
        }
      ]
    }
  ]
}